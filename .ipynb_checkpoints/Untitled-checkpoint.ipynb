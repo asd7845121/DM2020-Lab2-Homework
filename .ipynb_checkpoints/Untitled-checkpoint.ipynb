{
 "cells": [
  {
   "cell_type": "code",
   "execution_count": 11,
   "metadata": {},
   "outputs": [],
   "source": [
    "import pandas as pd\n",
    "import numpy as np\n",
    "import json\n",
    "\n",
    "import nltk\n",
    "from nltk.corpus import stopwords\n",
    "from nltk.stem import SnowballStemmer\n",
    "from nltk.tokenize import TweetTokenizer\n",
    "\n",
    "from sklearn.feature_extraction.text import CountVectorizer, TfidfTransformer\n",
    "from sklearn.linear_model import LogisticRegression\n",
    "from sklearn.model_selection import train_test_split, StratifiedKFold, cross_val_score\n",
    "from sklearn.pipeline import make_pipeline, Pipeline\n",
    "from sklearn.model_selection import GridSearchCV\n",
    "from sklearn.metrics import make_scorer, accuracy_score, f1_score\n",
    "from sklearn.metrics import roc_curve, auc\n",
    "from sklearn.metrics import confusion_matrix, roc_auc_score, recall_score, precision_score\n",
    "from sklearn.feature_selection import SelectKBest, f_regression\n",
    "from sklearn import svm, tree, neighbors\n",
    "from sklearn.metrics import classification_report\n",
    "from sklearn.naive_bayes import MultinomialNB\n",
    "from sklearn import ensemble"
   ]
  },
  {
   "cell_type": "code",
   "execution_count": 12,
   "metadata": {},
   "outputs": [],
   "source": [
    "### training data\n",
    "train_test = pd.read_csv(\"./dm2020-hw2-nthu/data_identification.csv\")\n",
    "label = pd.read_csv(\"./dm2020-hw2-nthu/emotion.csv\")\n",
    "label_dict = dict(label.values.tolist())\n",
    "\n",
    "file = open(\"./dm2020-hw2-nthu/tweets_DM.json\", 'rb')\n",
    "data = []\n",
    "for line in file.readlines():\n",
    "    dic = json.loads(line)\n",
    "    data.append(dic)\n",
    "    \n",
    "train_id = set()\n",
    "test_id = set()\n",
    "\n",
    "for a in train_test[train_test[\"identification\"]==\"train\"][\"tweet_id\"]:\n",
    "    train_id.add(a)\n",
    "for b in train_test[train_test[\"identification\"]==\"test\"][\"tweet_id\"]:\n",
    "    test_id.add(b)\n",
    "\n",
    "train = list()\n",
    "test = list()\n",
    "for i in range(len(data)):\n",
    "    if(data[i][\"_source\"][\"tweet\"][\"tweet_id\"] in train_id):\n",
    "        train.append(data[i])\n",
    "    elif(data[i][\"_source\"][\"tweet\"][\"tweet_id\"] in test_id):\n",
    "        test.append(data[i])\n",
    "        \n",
    "train_list=list()\n",
    "for i in range(len(train)):\n",
    "    tmp = list()\n",
    "    tewwt_id = train[i][\"_source\"][\"tweet\"][\"tweet_id\"]\n",
    "    text = train[i][\"_source\"][\"tweet\"][\"text\"].lower()\n",
    "    label = label_dict[train[i][\"_source\"][\"tweet\"][\"tweet_id\"]]\n",
    "    train_list.append((tewwt_id, text, label))\n",
    "train_df = pd.DataFrame(train_list,columns=[\"tweet_id\", \"text\", \"emotion\"])\n",
    "\n",
    "test_list=list()\n",
    "for j in range(len(test)):\n",
    "    tmp = list()\n",
    "    tewwt_id = test[j][\"_source\"][\"tweet\"][\"tweet_id\"]\n",
    "    text = test[j][\"_source\"][\"tweet\"][\"text\"].lower()\n",
    "    test_list.append((tewwt_id, text))\n",
    "test_df = pd.DataFrame(test_list,columns=[\"tweet_id\", \"text\"])"
   ]
  },
  {
   "cell_type": "code",
   "execution_count": 13,
   "metadata": {},
   "outputs": [],
   "source": [
    "train, val = train_test_split(train_df, test_size=0.2, random_state=1)\n",
    "x_train = train['text'].values\n",
    "x_val = val['text'].values\n",
    "y_train = train['emotion']\n",
    "y_val = val['emotion']"
   ]
  },
  {
   "cell_type": "code",
   "execution_count": 14,
   "metadata": {},
   "outputs": [],
   "source": [
    "label_dict = {'anger':0,'anticipation':1, 'disgust':2, 'fear':3, 'joy':4, 'sadness':5, 'surprise':6, 'trust':7}\n",
    "\n",
    "y_train = [label_dict[y] for y in y_train]\n",
    "y_val = [label_dict[y] for y in y_val]"
   ]
  },
  {
   "cell_type": "code",
   "execution_count": 112,
   "metadata": {},
   "outputs": [],
   "source": [
    "from sklearn.feature_extraction.text import TfidfVectorizer\n",
    "# Create feature vectors\n",
    "# vectorizer = TfidfVectorizer(min_df = 30,\n",
    "#                              max_df = 0.1,\n",
    "#                              sublinear_tf = True,\n",
    "#                              use_idf = True)\n",
    "\n",
    "vectorizer = TfidfVectorizer(min_df = 30, max_df = 0.1,sublinear_tf=True, stop_words={\"english\"})\n",
    "\n",
    "train_vectors = vectorizer.fit_transform(x_train)\n",
    "val_vectors = vectorizer.transform(x_val)"
   ]
  },
  {
   "cell_type": "code",
   "execution_count": 113,
   "metadata": {},
   "outputs": [],
   "source": [
    "# naive 500/0.42 1500/0.43 3000/0.437 3000/0.6/0.43779 3000/0.3/0.43866 3000/0.1/0.4412 300/0.1/0.4958 30/0.1/0.530\n",
    "# tree 0.39\n",
    "# svm"
   ]
  },
  {
   "cell_type": "code",
   "execution_count": 114,
   "metadata": {},
   "outputs": [
    {
     "name": "stdout",
     "output_type": "stream",
     "text": [
      "train score :  0.5324805702262871\n",
      "val score :  0.520636316481916\n"
     ]
    }
   ],
   "source": [
    "# clf = tree.DecisionTreeClassifier()\n",
    "# clf = svm.SVC(kernel='linear')\n",
    "# clf = neighbors.KNeighborsClassifier()\n",
    "# clf = MultinomialNB()\n",
    "\n",
    "clf.fit(train_vectors, y_train)\n",
    "print(\"train score : \",clf.score(train_vectors, y_train))\n",
    "print(\"val score : \",clf.score(val_vectors, y_val))\n",
    "# anova_svm.predict(X)\n",
    "# y_predict = clf.predict(val_vectors)\n",
    "# report = classification_report(y_val, y_predict, output_dict=True)"
   ]
  },
  {
   "cell_type": "code",
   "execution_count": null,
   "metadata": {},
   "outputs": [],
   "source": []
  },
  {
   "cell_type": "markdown",
   "metadata": {},
   "source": [
    "<p style=\"font_size:20px\">------------------------------------</p>"
   ]
  },
  {
   "cell_type": "code",
   "execution_count": 115,
   "metadata": {},
   "outputs": [],
   "source": [
    "x_test = test_df['text'].values\n",
    "test_vectors = vectorizer.transform(x_test)"
   ]
  },
  {
   "cell_type": "code",
   "execution_count": 116,
   "metadata": {},
   "outputs": [],
   "source": [
    "test_predict = clf.predict(test_vectors)"
   ]
  },
  {
   "cell_type": "code",
   "execution_count": 117,
   "metadata": {},
   "outputs": [],
   "source": [
    "label_reverse = {'0':'anger','1':'anticipation','2':'disgust','3':'fear','4':'joy','5':'sadness','6':'surprise','7':'trust'}\n",
    "test_predict = [label_reverse[str(t)] for t in test_predict]"
   ]
  },
  {
   "cell_type": "code",
   "execution_count": 118,
   "metadata": {},
   "outputs": [],
   "source": [
    "tweet_id = test_df[\"tweet_id\"].tolist()"
   ]
  },
  {
   "cell_type": "code",
   "execution_count": 119,
   "metadata": {
    "scrolled": true
   },
   "outputs": [],
   "source": [
    "import csv\n",
    "with open('results/tfidf_naive_bagging.csv', 'w', newline='') as csvfile:\n",
    "    writer  = csv.writer(csvfile)\n",
    "    writer.writerow((\"id\",\"emotion\"))\n",
    "    for i in range(len(test_df)):\n",
    "        writer.writerow((tweet_id[i], test_predict[i]))"
   ]
  },
  {
   "cell_type": "code",
   "execution_count": null,
   "metadata": {},
   "outputs": [],
   "source": []
  },
  {
   "cell_type": "code",
   "execution_count": null,
   "metadata": {},
   "outputs": [],
   "source": []
  },
  {
   "cell_type": "code",
   "execution_count": null,
   "metadata": {},
   "outputs": [],
   "source": []
  },
  {
   "cell_type": "code",
   "execution_count": null,
   "metadata": {},
   "outputs": [],
   "source": []
  },
  {
   "cell_type": "code",
   "execution_count": null,
   "metadata": {},
   "outputs": [],
   "source": []
  },
  {
   "cell_type": "code",
   "execution_count": null,
   "metadata": {},
   "outputs": [],
   "source": []
  }
 ],
 "metadata": {
  "kernelspec": {
   "display_name": "Python 3",
   "language": "python",
   "name": "python3"
  },
  "language_info": {
   "codemirror_mode": {
    "name": "ipython",
    "version": 3
   },
   "file_extension": ".py",
   "mimetype": "text/x-python",
   "name": "python",
   "nbconvert_exporter": "python",
   "pygments_lexer": "ipython3",
   "version": "3.8.3"
  }
 },
 "nbformat": 4,
 "nbformat_minor": 4
}
